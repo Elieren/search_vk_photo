{
  "cells": [
    {
      "cell_type": "code",
      "execution_count": null,
      "metadata": {
        "id": "dgt1V2vWPZOU"
      },
      "outputs": [],
      "source": [
        "!sudo apt update"
      ]
    },
    {
      "cell_type": "code",
      "execution_count": null,
      "metadata": {
        "id": "t6BhFERfPOvE"
      },
      "outputs": [],
      "source": [
        "!sudo apt-get install -y \\\n",
        "    python3-pip \\\n",
        "    build-essential \\\n",
        "    git \\\n",
        "    python3 \\\n",
        "    python3-dev \\\n",
        "    ffmpeg \\\n",
        "    libsdl2-dev \\\n",
        "    libsdl2-image-dev \\\n",
        "    libsdl2-mixer-dev \\\n",
        "    libsdl2-ttf-dev \\\n",
        "    libportmidi-dev \\\n",
        "    libswscale-dev \\\n",
        "    libavformat-dev \\\n",
        "    libavcodec-dev \\\n",
        "    zlib1g-dev \\\n",
        "    ccache \\\n",
        "    python2.7 \\\n",
        "    python2.7-dev \\\n",
        "    openjdk-8-jdk \\\n",
        "    unzip \\\n",
        "    libltdl-dev \\\n",
        "    libffi-dev \\\n",
        "    libssl-dev \\\n",
        "    autoconf \\\n",
        "    autotools-dev \\\n",
        "    cmake \\\n",
        "    libgstreamer1.0 \\\n",
        "    gstreamer1.0-plugins-base \\\n",
        "    gstreamer1.0-plugins-good \\\n",
        "    libsqlite3-dev \\\n",
        "    sqlite3 \\\n",
        "    bzip2 \\\n",
        "    libbz2-dev \\\n",
        "    openssl \\\n",
        "    libgdbm-dev \\\n",
        "    libgdbm-compat-dev \\\n",
        "    liblzma-dev \\\n",
        "    libreadline-dev \\\n",
        "    libncursesw5-dev \\\n",
        "    uuid-dev \\\n",
        "    openjdk-11-jdk \\\n",
        "    python3.8-venv \\\n",
        "    zip \\\n",
        "    openjdk-17-jdk \\\n",
        "    libtool \\\n",
        "    pkg-config \\\n",
        "    libncurses5-dev \\\n",
        "    libtinfo5"
      ]
    },
    {
      "cell_type": "code",
      "execution_count": null,
      "metadata": {
        "id": "oXOBuBXfe6cH"
      },
      "outputs": [],
      "source": [
        "!pip3 install cython==0.29.19\n",
        "!pip3 install kivy\n",
        "!pip3 install kivymd\n",
        "!pip3 install python-for-android"
      ]
    },
    {
      "cell_type": "code",
      "execution_count": null,
      "metadata": {
        "id": "iK9TYcijRDsI"
      },
      "outputs": [],
      "source": [
        "!export PATH=$PATH:~/.local/bin/"
      ]
    },
    {
      "cell_type": "code",
      "execution_count": null,
      "metadata": {
        "id": "pS1OMVZNQfkN"
      },
      "outputs": [],
      "source": [
        "!git clone https://github.com/kivy/buildozer.git && cd buildozer/ && sudo python3 setup.py install"
      ]
    },
    {
      "cell_type": "code",
      "execution_count": null,
      "metadata": {
        "id": "JldEiQoPRc5c"
      },
      "outputs": [],
      "source": [
        "!cd android/ && buildozer init"
      ]
    },
    {
      "attachments": {},
      "cell_type": "markdown",
      "metadata": {
        "id": "pl8RCoJUI8hA"
      },
      "source": [
        "File buildozer.spec\n",
        "\n",
        "```\n",
        "# (str) Title of your application \n",
        "title = <Nice tile of the app>\n",
        "\n",
        "# (str) Package name\n",
        "package.name = <A package name of your app>\n",
        "\n",
        "# (str) Package domain (needed for android/ios packaging)\n",
        "package.domain = <Name this as: com.<any name> >\n",
        "\n",
        "# (list) Application requirements\n",
        "# comma separated e.g. requirements = sqlite3,kivy\n",
        "requirements = python3,kivy,kivymd,plyer,android.permissions,opencv\n",
        "\n",
        "# (list) Permissions\n",
        "android.permissions = INTERNET,ACCESS_NETWORK_STATE,ACCESS_WIFI_STATE,READ_EXTERNAL_STORAGE\n",
        "```"
      ]
    },
    {
      "cell_type": "code",
      "execution_count": null,
      "metadata": {
        "id": "DykTv0t5Sxtm"
      },
      "outputs": [],
      "source": [
        "!cd android/ && buildozer -v android debug"
      ]
    },
    {
      "cell_type": "markdown",
      "metadata": {
        "id": "4ZKfLl17OInD"
      },
      "source": [
        "Clear and remove"
      ]
    },
    {
      "cell_type": "code",
      "execution_count": null,
      "metadata": {
        "id": "pWw-ldeBTEhN"
      },
      "outputs": [],
      "source": [
        "!cd android/ && buildozer -v android clean"
      ]
    },
    {
      "cell_type": "code",
      "execution_count": null,
      "metadata": {
        "id": "Wxcr-1Nhay4f"
      },
      "outputs": [],
      "source": [
        "!cd android/ && rm -r .buildozer/\n",
        "!cd android && rm -r bin/\n",
        "#!cd /root/ && rm -r .android/\n",
        "#!cd /root/ && rm -r .buildozer/\n",
        "#!cd /root/ && rm -r .gradle/\n",
        "#!cd /root/ && rm -r .kivy/\n",
        "#!cd /root/ && rm -r .config/\n",
        "#!cd /root/ && rm -r .ipython\n",
        "#!cd /root/ && rm -r .ccache\n",
        "#!rm -r .config/\n",
        "#!rm -r .ipynb_checkpoints/"
      ]
    }
  ],
  "metadata": {
    "colab": {
      "provenance": []
    },
    "kernelspec": {
      "display_name": "Python 3",
      "name": "python3"
    },
    "language_info": {
      "name": "python"
    }
  },
  "nbformat": 4,
  "nbformat_minor": 0
}
